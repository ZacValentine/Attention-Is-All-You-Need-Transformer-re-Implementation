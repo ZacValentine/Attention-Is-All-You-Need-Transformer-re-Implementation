{
 "cells": [
  {
   "cell_type": "code",
   "execution_count": 1,
   "metadata": {},
   "outputs": [],
   "source": [
    "import pandas as pd\n",
    "from transformers import GPT2Tokenizer, BertTokenizer\n",
    "import sentencepiece as spm\n",
    "import torch\n",
    "import torch.nn as nn\n",
    "import torch.optim as optim\n",
    "from tweaked_model2 import Model, get_preprocessed_example"
   ]
  },
  {
   "cell_type": "code",
   "execution_count": 2,
   "metadata": {},
   "outputs": [],
   "source": [
    "train_df = pd.read_csv('datasets/wmt14_translate_de-en_train.csv',lineterminator='\\n')"
   ]
  },
  {
   "cell_type": "code",
   "execution_count": null,
   "metadata": {},
   "outputs": [],
   "source": [
    "tokenizer = GPT2Tokenizer.from_pretrained(\"gpt2\")\n",
    "num_added_tokens = tokenizer.add_tokens(['[START]', '[END]'], special_tokens=True)\n",
    "vocab_size = tokenizer.vocab_size + num_added_tokens\n",
    "\n",
    "# sp = spm.SentencePieceProcessor() # gpt2 seems to do better than this\n",
    "# sp.load('saved/sp/combined_tokenizer.model')\n",
    "\n",
    "# vocab_size = sp.vocab_size()\n",
    "\n",
    "device = torch.device(\"cuda\" if torch.cuda.is_available() else \"cpu\")\n",
    "print(device)\n",
    "\n",
    "model = Model(embed_dim=512,\n",
    "              num_blocks=6, \n",
    "              num_heads=8, \n",
    "              ff_dim=2048, \n",
    "              dropout_rate=0.1,\n",
    "              vocab_size=vocab_size).to(device)"
   ]
  },
  {
   "cell_type": "code",
   "execution_count": null,
   "metadata": {},
   "outputs": [],
   "source": [
    "criterion = nn.CrossEntropyLoss(ignore_index=0)\n",
    "optimizer = optim.Adam(model.parameters(), lr=1e-4, betas=(0.9, 0.98), eps=1e-9)\n",
    "\n",
    "# model.load_state_dict(torch.load('saved/tweaked_model/13/model2.pth'))\n",
    "model.train()\n",
    "\n",
    "# scheduler = torch.optim.lr_scheduler.ReduceLROnPlateau(optimizer, mode='min', factor=0.1, patience=10, verbose=True)\n",
    "scheduler = torch.optim.lr_scheduler.ReduceLROnPlateau(optimizer, mode='min', factor=0.1, patience=5, min_lr=1e-6, verbose=True)\n",
    "# scheduler = torch.optim.lr_scheduler.ReduceLROnPlateau(optimizer, mode='min', factor=0.5, patience=5, min_lr=1e-6, verbose=True)\n",
    "\n",
    "num_epochs = 1\n",
    "scheduler_interval = 1000\n",
    "best_loss_interval = 10000\n",
    "losses = []\n",
    "lr_decrease_steps = []\n",
    "best_loss = 100000000\n",
    "\n",
    "for epoch in range(num_epochs):\n",
    "    for i in range(train_df.shape[0]):\n",
    "        optimizer.zero_grad()\n",
    "\n",
    "        src, tgt = get_preprocessed_example(i=i, train_df=train_df, sp=tokenizer, device=device)\n",
    "        logits = model(src, tgt[:-1])\n",
    "\n",
    "        loss = criterion(logits, tgt[1:])\n",
    "        loss.backward()\n",
    "\n",
    "        nn.utils.clip_grad_norm_(model.parameters(), max_norm=1.0) # gradient clipping\n",
    "\n",
    "        optimizer.step()\n",
    "\n",
    "        losses.append(loss.item())\n",
    "        if i % scheduler_interval == 0 and i != 0:\n",
    "            avg_interval_loss = sum(losses[-scheduler_interval:]) / scheduler_interval\n",
    "            print('step:', i)\n",
    "            print('avg loss:', avg_interval_loss)\n",
    "            print('\\n')\n",
    "            torch.save(model.state_dict(), 'saved/tweaked_working_model/x/model.pth') \n",
    "            \n",
    "            max_length = max(len(losses), len(lr_decrease_steps))\n",
    "            padded_losses = losses + [None] * (max_length - len(losses)) # THESE ARE EFFECTIVELY STORING HUNDREDS OF THOUSANDS\n",
    "                                                                        # OF ELEMENTS EACH, CAN FIX BY STORING ALL IN 1 ROW OF DF\n",
    "                                                                        # CAN MAKE THE DF STORE LIST OF ALL LOSSES IN THE FIRST ROW AND COLUMN\n",
    "            padded_lr_decrease_steps = lr_decrease_steps + [None] * (max_length - len(lr_decrease_steps))\n",
    "            padded_best_loss = [best_loss] + [None] * (max_length - len([best_loss]))\n",
    "\n",
    "            previous_lr = optimizer.param_groups[0]['lr']\n",
    "            scheduler.step(avg_interval_loss)\n",
    "            current_lr = optimizer.param_groups[0]['lr']\n",
    "            if current_lr < previous_lr: \n",
    "                lr_decrease_steps.append(i)\n",
    "\n",
    "            df_dict = {'loss': padded_losses,\n",
    "                       'lr_decrease_steps': padded_lr_decrease_steps,\n",
    "                       'best_model_saves_avg_loss':padded_best_loss}\n",
    "            df = pd.DataFrame(df_dict)\n",
    "            df.to_csv('saved/tweaked_working_model/x/losses_and_lrs.csv', index=False)\n",
    "\n",
    "        if i % best_loss_interval == 0 and i != 0 and sum(losses[-best_loss_interval:]) / best_loss_interval < best_loss:\n",
    "            torch.save(model.state_dict(), 'saved/tweaked_working_model/x/best_model.pth') # based on past 10000 examples avg loss\n",
    "            best_loss = sum(losses[-best_loss_interval:]) / best_loss_interval\n",
    "            print('best avg loss over 10,000 steps:', best_loss)\n",
    "        \n",
    "    print('epoch', epoch, \"complete\")"
   ]
  }
 ],
 "metadata": {
  "kernelspec": {
   "display_name": "venv",
   "language": "python",
   "name": "python3"
  },
  "language_info": {
   "codemirror_mode": {
    "name": "ipython",
    "version": 3
   },
   "file_extension": ".py",
   "mimetype": "text/x-python",
   "name": "python",
   "nbconvert_exporter": "python",
   "pygments_lexer": "ipython3",
   "version": "3.11.9"
  }
 },
 "nbformat": 4,
 "nbformat_minor": 2
}
